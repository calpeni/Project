{
 "cells": [
  {
   "cell_type": "markdown",
   "metadata": {},
   "source": [
    "for their superb technical support throughout the model's development, especially on the:\n",
    "- dispersal mechanics\n",
    "- mathematics of the model's geometry.\n",
    "\n",
    "\\# individuals in 1 m^2 is: $M^{-0.75}$\n",
    "\n",
    "introduce model - Neutral/Metabolic Theory\n",
    "-highlight/explain guilds - body mass\n",
    "\n",
    "explicit - values for M, total abundance\n",
    "\\*-guild of smallest body mass has the most individuals/is the biggest system\n",
    "\n",
    "neutral step\n",
    "\n",
    "summarise what size/temp affect - differs\n",
    "In summary, the metabolic effects are:\n",
    "\n",
    "  | Body Mass | Temperature\n",
    ":-|:----------|:-----------\n",
    "**Birth/Death Rate** | no effect | increases\n",
    "**Dispersal Distance** | increases | increases\n",
    "**Population Density** | decreases | no effect\n",
    "Table 2. Summary of metabolic (body mass and temperature) effects on model parameters.\n",
    "\n",
    "within simulations\n",
    "across body mass guilds\n",
    "body mass fixed within sim\n",
    "\n",
    "survival probability - plot\n",
    "\n",
    "basic model\n",
    "plot disp kernel - shape changes?\n",
    "stress difficulty/novelty - variable dispersal\n",
    "dispersal - draw random x and random y distance\n",
    "\\*birth/death\n",
    "\n",
    "geometry\n",
    "mechanics\n",
    "-basic\n",
    "-disp depends on body mass and temp\n",
    "-birth/death depends on temp\n",
    "\n",
    "to introduce metabolic effects (on...), we introduce non-uniform probability distributions.\n",
    "add a temperature gradient that decreases with altitude\n",
    "-temp decr with alt\n",
    "that effects probability of death, birth and dispersal.\n",
    "prob of picking an individual is a function of"
   ]
  }
 ],
 "metadata": {
  "kernelspec": {
   "display_name": "Python 3",
   "language": "python",
   "name": "python3"
  },
  "language_info": {
   "codemirror_mode": {
    "name": "ipython",
    "version": 3
   },
   "file_extension": ".py",
   "mimetype": "text/x-python",
   "name": "python",
   "nbconvert_exporter": "python",
   "pygments_lexer": "ipython3",
   "version": "3.6.1"
  }
 },
 "nbformat": 4,
 "nbformat_minor": 2
}
