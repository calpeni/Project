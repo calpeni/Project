{
 "cells": [
  {
   "cell_type": "markdown",
   "metadata": {},
   "source": [
    "# Method\n",
    "To simplify reality, neutral models assume individuals are ecologically equivalent. This does not necessarily mean individuals have identical traits, it means trait variation is independent of species identity. The models consist of a community and proceed in discrete, uniform time steps. In each step, a randomly-chosen individual dies. With probability v, they are replaced by a new species. With probability 1 - v, they are replaced, via dispersal, by the offspring of another randomly-chosen individual. For convenience, the models make a zero-sum assumption: Birth and death balance (dead individuals are immediately replaced), so the number of individuals is constant (Hubbell 2001; Rosindell et al 2008, 2011).\n",
    "\n",
    "I begin with a two-dimensional, spatially explicit version: Individuals occupy cells in a grid, representing positions in space. When individuals reproduce, offspring disperse according to a dispersal kernel - a probability distribution of dispersal distances. In a basic model, death, birth, speciation, and dispersal rates do not vary across individuals.\n",
    "\n",
    "I add an altitudinal temperature gradient that drives variation in death, birth, and dispersal, as predicted by Metabolic Theory. To explore the effect of area, I vary the number of individuals in a cell. Finally, I envision the community consists of guilds; individuals in a guild have the same body size. Each guild is a separate simulation. Among guilds, dispersal ability and the total number of individuals differ, as predicted by allometric scaling. So, temperature drives variation within simulations, whereas body size drives it across simulations. Initally, the model is fully neutral: In a simulation, species are equivalent - individual variation is independent of species identity. However, as explained later, species have a thermal optimum, so the model moves away from neutrality."
   ]
  },
  {
   "cell_type": "markdown",
   "metadata": {},
   "source": [
    "## The Model's Geometry\n",
    "I use a cone's surface as a model of a mountain. Unfurled, a cone's surface is a circle sector. The polar coordinates, $r$ and $\\theta$, describe position on the mountain. The circle centre (mountain tip or cone apex) is the origin, (0, 0). The radial coordinate, $r$, is the radial distance from the circle centre - how far down the mountain a point is. The angular coordinate, $\\theta$, is the angle from the x-axis.\n",
    "\n",
    "In silico, I represent the cone's surface as a square array (grid of cells). Rows in the array are altitudinal bands, and columns, positions along a band. Row indices correspond to radial positions, and column indices, to angular positions. The array's top edge is the cone's apex (mountain tip), so has radial coordinate 0.\n",
    "\n",
    "In metres, the cone's base radius is $x$, and slant height, $s$. Slant height is the distance along the cone's lateral (curved) surface from the apex to the base. If $c$ is the ratio of $s$ and $x$:\n",
    "\n",
    "$$\\frac{s}{x} = c$$\n",
    "$$s = cx$$\n",
    "$$x = \\frac{s}{c}$$\n",
    "\n",
    "To convert between metres and number of cells:\n",
    "\n",
    "$$cx \\text{ metres} = T_r \\text{ cells}$$\n",
    "$$1 \\text{ m} = \\frac{T_r}{cx} \\text{ cells}$$\n",
    "$$\\frac{cx}{T_r} \\text{ m} = 1 \\text{ cell}$$\n",
    "\n",
    "(  \n",
    "angle from the x-axis (horizontal position)\n",
    "The array's top edge is the cone's apex (mountain tip), so has radial coordinate 0. Accordingly, row index refers to an altitudinal band's top edge, and indexing starts at 0 with the top band.  \n",
    ")\n",
    "\n",
    "Symbol | Definition\n",
    ":------| :---------\n",
    "$s$ | cone's slant height\n",
    "$x$ | radius of cone's base\n",
    "$c$ | $\\frac{s}{x}$, ratio of $s$ to $x$\n",
    "$T_r$ | array's height in number of cells (number of rows) - analogous to the cone's slant height\n",
    "$T_\\theta$ | array's width in number of cells (number of columns) - analogous to the circumference of the cone's base\n",
    "$I_r$ | row index - equal to the distance from the cone's apex in number of cells\n",
    "\n",
    "Table 1. *Parameters of the Model's Geometry.* The model mountain is the lateral (curved) surface of a cone. In silico, I represent the cone's surface as a square array (grid of cells)."
   ]
  },
  {
   "cell_type": "markdown",
   "metadata": {},
   "source": [
    "## Population Density\n",
    "Each cell in the array has $n$ individuals; $n$ is a function of body mass and area. Population density (number of individuals per unit area) should decline with body mass as $M^{-0.75}$, if resource supply is constant. This is because individual resource demand depends on metabolic rate, which increases with body mass as $M^{0.75}$. Observations in animals and plants support this (Enquist et al 1998; Damuth 1987). A mountain base covers more area than the top. The model mountain is a cone, but, in silico, it is a square array. So, going up the mountain, each cell in the array represents an increasingly narrow area. If $A_c$ is cell area, the number of individuals in a cell is:\n",
    "\n",
    "$$A_c M^{-0.75}$$\n",
    "\n",
    "### Area of a Grid Cell\n",
    "A key advantage of the model is it expresses area in relative terms. This means I need not worry about $x$'s absolute value and greatly simplifies the model. The edge of an altitudinal band is a circle round the cone's surface. Knowing this circle's radius, you can get the area of a grid cell. Imagine the band's edge is the cone's base. The slant height is the band's radial position (distance from apex). Thus, to get the radius:\n",
    "\n",
    "$$x' = \\frac{s'}{c}$$\n",
    "\n",
    "As row index corresponds to radial position:\n",
    "\n",
    "$$x' = \\frac{I_r}{c}$$\n",
    "\n",
    "Convert $I_r$ to metres, as $x'$ is in m:\n",
    "\n",
    "$$x' = \\frac{I_r cx}{c T_r}$$\n",
    "$$= \\frac{I_r x}{T_r}$$\n",
    "\n",
    "\n",
    "A cone's surface area (excluding the base) is:\n",
    "\n",
    "$$\\pi xs = \\pi cx^2$$\n",
    "\n",
    "When a cone is cut by two planes parallel to the base, the shape between the planes is called a frustum. An altitudinal band is the surface of a frustum; the band's edges are the planes. The area of an altitudinal band, $A_f$, is:\n",
    "\n",
    "$$\\pi c b^2 - \\pi c t^2 = \\pi c(b^2 - t^2)$$\n",
    "\n",
    "$b$ and $t$ are the base and top radii of the frustum. Using row index ($I_r$) and equation 3 to express $b$ and $t$:\n",
    "\n",
    "$$A_f = \\pi c \\bigg(\\Big(\\frac{(I_r + 1)x}{T_r}\\Big)^2 - \\Big(\\frac{I_r x}{T_r}\\Big)^2 \\bigg)$$\n",
    "\n",
    "Then, the area of one cell in an altitudinal band is:  \n",
    "divide by the array's width (in \\# cells) to get\n",
    "\n",
    "$$\\frac{\\pi c \\bigg(\\Big(\\frac{(I_r + 1)x}{T_r}\\Big)^2 - \\Big(\\frac{I_r x}{T_r}\\Big)^2 \\bigg)}{T_\\theta}$$\n",
    "\n",
    "Thus, cell area is unitless, and instead expressed in terms of x, keeping the model tractable.\n",
    "\n",
    "(  \n",
    "The edge of an altitudinal band is a circle round the cone's surface; it is useful to know this circle's radius.\n",
    "The edge of an altitudinal band is a circle round the cone's surface. Using this circle's radius, you can get the area of a grid cell.  \n",
    ")"
   ]
  },
  {
   "cell_type": "markdown",
   "metadata": {},
   "source": [
    "## Dispersal\n",
    "Individuals do not move, but species disperse via birth and death (when an individual reproduces, its offspring fills a gap vacant due to a death). An individual's chance of being chosen to reproduce depends on its birth rate, dispersal ability, and distance from the destination (vacant position). In other words, it is the net probability of birth and dispersal. The challenge is that, across space, birth and dispersal rates vary. The solution is a set of probability distributions."
   ]
  }
 ],
 "metadata": {
  "kernelspec": {
   "display_name": "Python 3",
   "language": "python",
   "name": "python3"
  },
  "language_info": {
   "codemirror_mode": {
    "name": "ipython",
    "version": 3
   },
   "file_extension": ".py",
   "mimetype": "text/x-python",
   "name": "python",
   "nbconvert_exporter": "python",
   "pygments_lexer": "ipython3",
   "version": "3.6.1"
  }
 },
 "nbformat": 4,
 "nbformat_minor": 2
}
