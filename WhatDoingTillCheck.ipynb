{
 "cells": [
  {
   "cell_type": "markdown",
   "metadata": {},
   "source": [
    "I draw a random number from a standard normal distribution and multiply by the output of metabolic scaling. Let the result of this = $d$.\n",
    "\n",
    "Symbol | Definition\n",
    ":------|:----------\n",
    "$n_r$ | r distance to vacant cell in number of cells (dispersal distance in r)\n",
    "$n_\\theta$ | theta distance to vacant cell in number of cells (dispersal distance in theta)\n",
    "$T_r$ | The model system is the curved (lateral) surface of a cone. In silico, the system is a 3D array - for this issue, we can ignore the 3rd dimension, density. $T_r$ is the array's height in number of cells (number of rows), and is analogous to the cone's slant height.\n",
    "$T_\\theta$ | array's width in number of cells (number of columns) - analogous to the circumference of the cone's base\n",
    "$S_r$ | radial position in number of cells (row index) (dispersal start point)\n",
    "$l$ | cone's slant height\n",
    "$x$ | radius of cone's base\n",
    "\n",
    "**Note:** compared to earlier notes, $n_r$ and $n_\\theta$ have new definitions.\n",
    "\n",
    "## 1)\n",
    "For r:\n",
    "$\n",
    "\\begin{align}\n",
    "d = \\frac{n_r}{T_r}cx\n",
    "\\end{align}\n",
    "$\n",
    "\n",
    "= proportion of the total number of cells moved, multiplied by the slant height in metres.\n",
    "\n",
    "Is this equation right?  \n",
    "$cx = l$ where $c$ is a constant  \n",
    "(representing $l$ in terms of $x$)  \n",
    "Can I ignore $cx$, so $d = n_r / T_r$?\n",
    "\n",
    "## 2)\n",
    "For theta, either:\n",
    "\n",
    "### i)\n",
    "$\n",
    "\\begin{align}\n",
    "d = \\frac{n_\\theta}{T_\\theta}2\\pi(S_r + \\frac{n_r}{2})\n",
    "\\end{align}\n",
    "$\n",
    "\n",
    "$2\\pi R$ is in number of cells, but should be in metres, thus:\n",
    "\n",
    "### or ii)\n",
    "$\n",
    "\\begin{align}\n",
    "d = \\frac{n_\\theta x}{T_\\theta T_r}2\\pi(S_r + \\frac{n_r}{2})\n",
    "\\end{align}\n",
    "$\n",
    "\n",
    "$T_r$ cells = $x$ metres  \n",
    "1 cell = $x/T_r$ metres  \n",
    "$2\\pi R$ cells = $2\\pi R\\frac{x}{T_r}$ metres\n",
    "\n",
    "\n",
    "= proportion of the total number of cells moved, multiplied by the total distance in metres. Total distance is the circumference of a circle.  \n",
    "\\*\\*But isn't $S_r + (n_r/2)$ slant height, not radius? (so why using it to calculate circumference?)  \n",
    "Why does the equation exclude $c$ (from $cx = l$)?  \n",
    "Also, can I just use $x/T_r$ to convert to metres?"
   ]
  },
  {
   "cell_type": "markdown",
   "metadata": {},
   "source": [
    "Old text:  \n",
    "\\#\\#\\# i)  \n",
    "How does $2\\pi R$ work - how account for the decreasing area going up?  \n",
    "Should $R$ be the slant height or radius (of the cone's base) -at that (vertical) position?\n",
    "- Dispersal in theta occurs along an arc of a circumference.\n",
    "- $C = 2\\pi r$\n",
    "- $/2\\pi r$ - proportion of circumference moved - but using slant height not radius, why? [and unsure how I'd calculate radius -at that (vertical) position]"
   ]
  }
 ],
 "metadata": {
  "kernelspec": {
   "display_name": "Python 3",
   "language": "python",
   "name": "python3"
  },
  "language_info": {
   "codemirror_mode": {
    "name": "ipython",
    "version": 3
   },
   "file_extension": ".py",
   "mimetype": "text/x-python",
   "name": "python",
   "nbconvert_exporter": "python",
   "pygments_lexer": "ipython3",
   "version": "3.6.1"
  }
 },
 "nbformat": 4,
 "nbformat_minor": 2
}
