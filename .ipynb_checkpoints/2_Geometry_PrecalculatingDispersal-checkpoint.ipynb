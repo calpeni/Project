{
 "cells": [
  {
   "cell_type": "markdown",
   "metadata": {},
   "source": [
    "- Equations were helpful, thank you.\n",
    "- They:\n",
    "    - convert distance moved from metres to number of cells.\n",
    "    - account for the system's geometry - going up the mountain, each grid cell represents a decreasing amount of area.\n",
    "- However, as I pre-calculate dispersal probabilities, I must do things backwards.\n",
    "- I have distance moved in number of cells, not metres.\n",
    "- Is it really necessary to convert to metres?\n",
    "\n",
    "# 1)\n",
    "Let \\# cells moved in r = $m_r$.    \n",
    "$$m_r = \\frac{d_r}{cx}n_r$$  \n",
    "$$d_r = \\frac{m_r cx}{n_r}$$\n",
    "\n",
    "# 2)\n",
    "Let \\# cells moved in theta = $m_\\theta$.\n",
    "$$m_\\theta = \\frac{d_\\theta}{2\\pi r}n_\\theta$$  \n",
    "$$d_\\theta = \\frac{m_\\theta 2\\pi r}{n_\\theta}$$\n",
    "\n",
    "Should r be the radius (of the cone's base) or slant height at that (vertical) position?  \n",
    "Maybe it doesn't matter as $l = cx$.  \n",
    "see diagram\n",
    "\n",
    "# 3)\n",
    "Whichever is correct, $r$ is:\n",
    "$$r = \\frac{S_r x}{n_r} + \\frac{d_r}{2}$$\n",
    "- In other words, the dispersal start point plus half the distance moved - both in metres.\n",
    "- '$d_r/2$' - using position halfway between start and destination.  \n",
    "&nbsp;  \n",
    "\n",
    "- I calculate the distance to a given cell, from every cell.\n",
    "- For theta, I must repeat this for every band - every $S_r$.\n",
    "- As $S_r$ changes, $d_r$ (r distance to the destination) changes. Also, I don't have the values of $d_r$.\n",
    "- But I do have $d_r$ in number of cells.\n",
    "- So:\n",
    "$$r = S_r + \\frac{m_r}{2}$$  \n",
    "$$d_\\theta = \\frac{m_\\theta 2\\pi (S_r + \\frac{m_r}{2})}{n_\\theta}$$\n",
    "Is this right?  \n",
    "Also right that this equation doesn't include $c$ (from $cx = l$), but equation for r does? Maybe because dispersal in r is affected by size of $l$, but dispersal in theta isn't.\n",
    "\n",
    "# Parameters, for reference\n",
    "Symbol | Definition\n",
    ":------|:----------\n",
    "$l$ | cone's slant height\n",
    "$x$ | radius of cone's base\n",
    "$n_r$ | In silico, the system is a 3D array - for this issue, we can ignore the 3rd dimension, density. $n_r$ is the array's height in number of cells (number of rows), and is analogous to slant height.\n",
    "$n_\\theta$ | array's width in number of cells (number of columns) - analogous to base's radius\n",
    "$d_r$ | dispersal distance in r in metres\n",
    "$d_\\theta$ | dispersal distance in theta in metres\n",
    "$S_r$ | radial position in number of cells (row index) (dispersal start point)\n",
    "$S_\\theta$ | angular position in number of cells (column index) (dispersal destination)"
   ]
  }
 ],
 "metadata": {
  "kernelspec": {
   "display_name": "Python 3",
   "language": "python",
   "name": "python3"
  },
  "language_info": {
   "codemirror_mode": {
    "name": "ipython",
    "version": 3
   },
   "file_extension": ".py",
   "mimetype": "text/x-python",
   "name": "python",
   "nbconvert_exporter": "python",
   "pygments_lexer": "ipython3",
   "version": "3.6.1"
  }
 },
 "nbformat": 4,
 "nbformat_minor": 2
}
