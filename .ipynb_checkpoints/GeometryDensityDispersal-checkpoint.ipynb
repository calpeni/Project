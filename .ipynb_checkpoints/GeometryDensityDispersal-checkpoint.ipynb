{
 "cells": [
  {
   "cell_type": "markdown",
   "metadata": {},
   "source": [
    "# 1)\n",
    "My concern is understanding how the parameter, c, fits in with my other parameters.\n",
    "\n",
    "- $cx$ is the cone's slant height and $x$ is the radius of the cone's base.\n",
    "- In silico, the system is a numpy array. $n_r$ is the array's height in number of cells (number of rows).\n",
    "- Am I right in saying $n_r$ is analogous to slant height, and $n_r$ and $cx$ are the same parameter, but in different units?  \n",
    "&nbsp;  \n",
    "- c is unitless and controls the cone's steepness and height. If c = 1, the cone if flattened.\n",
    "- My understanding is that I could vary c, to investigate the effect of steepness on diversity gradients.\n",
    "- But, for the rest of the analysis, I'd set it to some moderate value that seems sensible.  \n",
    "&nbsp;  \n",
    "- My system is a 3D array - for this issue, we can ignore the 3rd dimension, density.\n",
    "- Two of my starting parameters are the number of rows and columns in the array ($n_r$ and $n_\\theta$).\n",
    "- My concern is that, as I already set $n_r$, I implicitly set c.\n",
    "- So, I cannot independently vary c - I can't use any value - it's not a free parameter.\n",
    "- Surely\n",
    "    - I need to find c's value and use that value in the equations discussed today?\n",
    "    - finding it requires I set the area (maybe in metres) each grid cell represents?\n",
    "- This seems complicated, as it means explicitly relating the system's scale to real systems.\n",
    "- A useful quality of today's equations is that they deal in proportions and I needn't worry about x's value. I wonder if the above issue changes this.  \n",
    "&nbsp;  \n",
    "- Previously, we discussed that I can vary steepness in 2 ways:\n",
    "    1. Change the distance between the mountain's base and peak (change the number of rows/altitudinal bands), keeping the temperature range constant.\n",
    "    2. Change the temperature range, keeping distance between base and peak constant.\n",
    "- In 1), I change $n_r$, but c also controls distance between base and peak.\n",
    "\n",
    "# 2)\n",
    "Today answers how to account for the system's geometry, when setting abundance.\n",
    "You also suggested I change how I account for geometry in dispersal - I'd really appreciate it if you could clarify my mistake.\n",
    "I draw a random number from a standard normal distribution and multiply by the output of metabolic scaling. Previously:\n",
    "- This gave a distance in number of cells.\n",
    "- I divided that by $2\\pi r$, where $r$ was radial position in number of cells. My understanding is that this part is incorrect.\n",
    "\n",
    "To get density in this old implementation:\n",
    "- Pick any altitudinal band (row) to be the 'reference band'.\n",
    "- Take the output of the scaling equation as the abundance in one cell of that band. Then:\n",
    "$$A_i = \\frac{R_i}{R_r} A_r$$\n",
    "where $A_i$ and $A_r$ are the abundance of band $i$ and the reference band, and $R_i$ and $R_r$, their radii.\n",
    "\n",
    "# 3)\n",
    "To get density in the new implementation:\n",
    "- The output of the scaling equation for density gives the system's total abundance, $A$.\n",
    "- Going up the mountain, each cell represents a decreasing amount of area.\n",
    "- So, individuals are not distributed equally among cells.\n",
    "- I can use today's equations to get a cell's area (as a proportion of the total area).\n",
    "- To get a cell's abundance, multiply $A$ by the cell's area.\n",
    "- Abundance per cell must be rounded to the nearest whole number.\n",
    "- Normalise abundance so the minimum per cell is 1, and the max is something tractable.\n",
    "\n",
    "# 4)\n",
    "- You showed that the area of one cell is:\n",
    "$$\n",
    "\\frac{\\pi c \\Bigg(\\bigg(\\frac{(S_r + 1)x}{n_r}\\bigg)^2 - \\bigg(\\frac{S_r x}{n_r}\\bigg)^2\\Bigg)}{n_\\theta}\n",
    "$$\n",
    "\n",
    "- I understand how we get this (from the area of an annulus, $\\pi(x^2 - y^2)$, and converting $S_r$ to metres by multiplying by $x/n_r$).\n",
    "\n",
    "Why can we apply this to a cone's curved surface, instead of a circle, by simply including c?"
   ]
  }
 ],
 "metadata": {
  "kernelspec": {
   "display_name": "Python 3",
   "language": "python",
   "name": "python3"
  },
  "language_info": {
   "codemirror_mode": {
    "name": "ipython",
    "version": 3
   },
   "file_extension": ".py",
   "mimetype": "text/x-python",
   "name": "python",
   "nbconvert_exporter": "python",
   "pygments_lexer": "ipython3",
   "version": "3.6.1"
  }
 },
 "nbformat": 4,
 "nbformat_minor": 2
}
