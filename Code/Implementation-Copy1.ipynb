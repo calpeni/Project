{
 "cells": [
  {
   "cell_type": "markdown",
   "metadata": {},
   "source": [
    "The model mountain...\n",
    "in silico, it is a 2D array\n",
    "row index - altitudinal band - how far up the mountain\n",
    "column index - how far along an altitudinal band"
   ]
  },
  {
   "cell_type": "markdown",
   "metadata": {},
   "source": [
    "# Dispersal\n",
    "(  \n",
    "The model mountain is a circle sector and the polar coordinates, r and theta, describe a position.\n",
    "- The radial coordinate, r, is the radial distance from the circle centre (mountain tip) - how far up the mountain a point is - its altitudinal band or row index.\n",
    "- The angular coordinate, theta, is the angle from the x-axis - how far along an altitudinal band a point is - its column index.\n",
    "\n",
    "*issue*  \n",
    ")\n",
    "\n",
    "An individual dies, leaving a gap, which is filled, via dispersal, by the offspring of another individual.\n",
    "The dispersal:\n",
    "- destination is the vacant cell (vacant due to death)\n",
    "- start point is the parent's cell.\n",
    "\n",
    "The program:\n",
    "- randomly picks the parent from a probability distribution - the probability of each parent's offspring dispersing to the vacant position\n",
    "- calculates probabilities using the individuals' dispersal kernels.\n",
    "\n",
    "Individuals do not have the same chance of being chosen, as their dispersal ability varies (i.e. the probability distribution is not uniform). (The shape of dispersal kernels varies. It depends on the individual's size and the temperature of its position.)\n",
    "\n",
    "Dispersal occurs by randomly picking a distance along each axis.\n",
    "To apply a metabolic effect to dispersal ability, calculate distance as follows:\n",
    "- Randomly pick a number from a normal distribution (location 0, scale 1).\n",
    "- Multiply the number by a variable, 'x', which is the output of metabolic scaling.\n",
    "- Distance is a continuous variable, but the landscape is divided into discrete units (position is a discrete variable). So, use the floor of the distance (round it down to the next integer)$^1$.\n",
    "\n",
    "However, the program does this in reverse, as it must calculate dispersal probabilities before it runs the simulation.\n",
    "\n",
    "$^1$ I do not round up as, if I did, only a raw distance of 0 would give a rounded distance of 0 (any raw distance greater than 0 and less than or equal 1, would round to 1).\n",
    "\n",
    "To go from one point to another, offspring obviously must move the distance between the points. However, this is the minimum distance they must go; they may go a more tortuous route, theoretically up to an infinite distance. So, the probability of dispersing from one point to another, is the probability of going *at least* the distance between them. This is calculated as:  \n",
    "&nbsp;\n",
    "$$P(d\\geq d_{min}) = 1 - P(d < d_{min})$$\n",
    "&nbsp;  \n",
    "where $d$ is the distance an offspring moves and $d_{min}$ is the distance between the points.\n",
    "\n",
    "(The program uses the floor of the distance. So, a distance, n, in number of cells represents a range of distances: $n\\leq d < n + 1$, where $d$ is raw distance. The program accounts for this, as it calculates the probability of going at least the minimum distance.)\n",
    "\n",
    "## Dispersal Map\n",
    "Each cell in the simulated landscape has a dispersal map, containing the probability of dispersing to that cell, from every cell (i.e. a probability distribution). The algorithm that computes a dispersal map:\n",
    "- Separately considers the destination's r and theta position (i.e., it separately considers dispersal along each axis).\n",
    "- Makes an array containing, for each r point in the landscape, the probability of dispersing to the destination r.\n",
    "- Does a similar computation for theta.\n",
    "- Multiplies the arrays element-wise, to get, for each (r, theta) position, the probability of dispersing to the destination.\n",
    "\n",
    "## Area\n",
    "- A mountain base covers more area than the top.\n",
    "- While the model landscape is a circle sector, in silico, it is a rectangular array. Each row is an altitudinal band.\n",
    "- So, going up the mountain, each grid cell represents an ever narrower area.\n",
    "- Thus, the theta distance must be scaled according to the radial position.\n",
    "- Movement in theta follows an arc of a circumference, so divide distance by circumference length, $2\\pi r$ (the radial position gives the radius).\n",
    "- The program separately considers dispersal along each axis. Whether it considers r or theta first matters, as the theta distance is scaled according to the radial position. *I assume it is sufficient to calculate theta distance, using the radial position halfway between the start and destination - the average.*\n",
    "\n",
    "*diagrams*"
   ]
  },
  {
   "cell_type": "code",
   "execution_count": 6,
   "metadata": {
    "collapsed": true
   },
   "outputs": [],
   "source": [
    "# code"
   ]
  },
  {
   "cell_type": "markdown",
   "metadata": {},
   "source": [
    "Do the following for each axis:\n",
    "- Make an array of all indices along the axis (position of each potential parent).\n",
    "- For each index:\n",
    "    - Calculate the distance to the destination (minimum distance offspring must go).\n",
    "    - Divide by x (then, for theta, multiply by $2\\pi r$) to get the variate of the normal distribution that gives this distance.\n",
    "    - The probability of going at least this distance is $1 - P(d < d_{min})$, where $d$ is distance an offspring moves and $d_{min}$ is distance between the points.  \n",
    "    `stats.halfnorm.sf(x)` - survival function (1 - `cdf`) evaluated at x.\n",
    "\n",
    "I do not assume offspring go in a fixed direction (see 'Change to Implementation'). So, I use the distance's absolute value, and thus a half normal distribution.\n",
    "\n",
    "- Dispersal in theta is along axis 1 (across columns).\n",
    "- For theta, distance must be scaled according to the radial position.\n",
    "- So, repeat the calculation for each row (altitudinal band). (Thus, for axis 1, the array of probabilities is 2D.)\n",
    "- `radii` contains the radial position of each row. (Radial distance in number of cells from the circle centre/mountain tip to the centre of an altitudinal band)."
   ]
  },
  {
   "cell_type": "markdown",
   "metadata": {},
   "source": [
    "## Change to Implementation\n",
    "- *As the landscape's left and right edges are connected, dispersal in theta can occur via any number of loops around the mountain. As discussed, I should not assume offspring go the shortest way, when calculating the probability of going from one point to another.*\n",
    "- *So they do not over- or undershoot the destination, offspring must do a full loop (though they may do any number of full loops). Thus, unlike my current implementation, offspring cannot go infinite distances greater than the minimum. I wrote code for this, but:*\n",
    "- *I feel I should also not assume offspring go in a fixed direction. (Note I am considering dispersal along one axis, so there are only two directions). Nothing stops offspring going, e.g., forward 2 steps, back 1, forward 3. As long as they go back on themselves or do a full loop, they reach the destination.*\n",
    "- *Given also dispersal is a continuous variable, we now get truly infinite possible distances above the minimum.*"
   ]
  }
 ],
 "metadata": {
  "kernelspec": {
   "display_name": "Python 3",
   "language": "python",
   "name": "python3"
  },
  "language_info": {
   "codemirror_mode": {
    "name": "ipython",
    "version": 3
   },
   "file_extension": ".py",
   "mimetype": "text/x-python",
   "name": "python",
   "nbconvert_exporter": "python",
   "pygments_lexer": "ipython3",
   "version": "3.6.1"
  }
 },
 "nbformat": 4,
 "nbformat_minor": 2
}
