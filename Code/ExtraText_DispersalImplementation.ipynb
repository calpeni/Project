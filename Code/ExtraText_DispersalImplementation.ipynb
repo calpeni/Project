{
 "cells": [
  {
   "cell_type": "markdown",
   "metadata": {},
   "source": [
    "solution may be to calculate the survival function myself, rather than using a built-in function\n",
    "something to discuss - beyond me to implement independently\n",
    "\n",
    "'sc.reshape'\n",
    "One shape dimension can be -1. In this case, the value is inferred from the length of the array and remaining dimensions.\n",
    "'[:, sc.newaxis]' - the newaxis index operator inserts a new axis into\n",
    "\n",
    "size of dispersal map is n^2"
   ]
  },
  {
   "cell_type": "markdown",
   "metadata": {},
   "source": [
    "# Extra Text\n",
    "The model mountain is a circle sector  \n",
    "\\*or arc like shape - cone with no tip, hemisphere - top may be hard boundary  \n",
    "and the polar coordinates, r and theta, describe a position.  \n",
    "The radial coordinate, r, is the radial distance from the circle centre (mountain tip) - how far up the mountain a point is - its altitudinal band or column index.  \n",
    "it describes  \n",
    "\"up and down\"  \n",
    "The angular coordinate, theta, is the angle from the x-axis - how far along an altitudinal band a point is - its row index.  \n",
    "\"left and right\"\n",
    "\n",
    "The bottom and top are hard boundaries - dispersal cannot occur across them. **edge effects**  \n",
    "However, while the system is depicted as flat, the left and right edges are connected, forming a *hollow* cone. Thus, in theta, dispersal from one given point to another can occur in either direction. Moreover, it can occur via any number of loops around the mountain. *I calculate dispersal probabilities using only the shortest route.*\n",
    "\n",
    "While the landscape is a circle sector, in silico, it is a rectangular array. Each column is an altitudinal band. So, going up the mountain, each grid cell represents an ever narrower area. Thus, the theta distance must be scaled according to the radial position, when converting from metres to a number of cells. Movement in theta follows an arc of a circumference. The distance in number of cells equals the proportion of the circumference traveled. Circumference length = $2\\pi r$, and the radial position gives the radius. Thus:  \n",
    "&nbsp; &nbsp; &nbsp; &nbsp; distance in number of cells = distance in metres/$2\\pi r$\n",
    "\n",
    "The program separately considers dispersal along each axis. Whether it considers r or theta first matters, as the theta distance is scaled according to the radial position. For a given theta distance in number of cells, the equivalent in metres changes going up the mountain. In other words, as an individual moves down/up, across rows, to reach a destination, the distance it must move along a row changes. It is better to use the diagonal distance between the start and destination. Use Pythagoras' Theorem to calculate this, with the diagonal distance as a triangle's hypotenuse, and r and theta destances as the other sides. But this would be hard, due to the change in area up the mountain. **I assume it is sufficient to calculate theta distance, using the radial position halfway between the start and destination - the average.** The model is a simplification; of course, it does not capture the complex reality of dispersal.\n",
    "\n",
    "- calculate the probability of drawing that distance from the index's dispersal kernel.\n",
    "\n",
    "\n",
    "So, dispersal occurs via birth and death.\n",
    "\n",
    "The program randomly picks the parent.\n",
    "An individual's probability of being chosen depends on its birth rate and dispersal ability.\n",
    "depends on an individual's position\n",
    "explicit - hotter...\n",
    "\n",
    "Individuals are randomly chosen to die or reproduce but individuals may not have the same probability of being chosen (but prob of dying=reproducing - make this clear)\n",
    "Across individuals, birth rate and dispersal ability may vary, so individuals may not have the same chance of being chosen.\n",
    "An individual's probability of being chosen  \n",
    "also depends on its birth rate  \n",
    "(not just the probability of its offspring dispersing to the vacant position)  \n",
    "depends on the probability of:\n",
    "- it being chosen to reproduce, and\n",
    "- its offspring disperses to the vacant position  \n",
    "product of two probabilities (probability 'and' rule)\n",
    "\n",
    "An individual's probability of being chosen to reproduce is $P(d \\geq d_{min})$ times by its birth rate.  \n",
    "Birth rate is the raw output of a metabolic scaling equation."
   ]
  },
  {
   "cell_type": "markdown",
   "metadata": {},
   "source": [
    "A probability distribution has a location parameter and scale parameter. The location and scale of a normal distribution equal its mean and standard deviation, respectively. (For most distributions, however, this is not true).\n",
    "The dispersal kernel is a normal distribution with location 0 and scale 1. Note the mean dispersal distance differs from the mean of the normal distribution: the mean of a random sample of distances from the normal distribution is bigger than 0.\n",
    "\n",
    "A dispersal kernel is a probability distribution of dispersal distances.\n",
    "Dispersal occurs by randomly picking an r distance and theta distance.\n",
    "To pick the parent, the algorithm randomly picks a direction and distance away from the vacant cell.\n",
    "Instead of direction, the alogrithm can pick a distance along each axis separately.\n",
    "\n",
    "Imagine the origin of a dispersal kernel as being centred on the start point; the dispersal kernel describes the distribution of destinations.\n",
    "In this sense, in a neutral model, the dispersal kernel is backwards, as it is centred on the destination (vacant cell).\n",
    "This works because all individuals have the same dispersal kernel.\n",
    "In my model, however, dispersal ability varies across individuals.\n",
    "Rather than drawing a distance, it is simpler to select a parent directly.\n",
    "\n",
    "Dispersal kernels: review. Chapter 15. Available from: https://www.researchgate.net/publication/284654445_Dispersal_kernels_review_Chapter_15 [accessed Jun 25, 2017].\n",
    "\n",
    "X\n",
    "In a 2D landscape, the dispersal kernel is a volume revolution.\n",
    "volume of revolution, centred on the origin\n",
    "Consider the curve of the dispersal kernel as a plane - a flat, 2D surface\n",
    "Imagine the curve of the dispersal kernel as a plane (flat, 2D surface).\n",
    "rotating the plane curve around the origin, to obtain a volume of revolution.\n",
    "usually need to integrate to get a distance from this 3D function\n",
    "-Ask J to explain\n",
    "I appreciate these details shouldn't feature in my method.\n",
    "As the method is technical, clarity is key.\n",
    "I feel the best approach is to consider the details, then prune them, to develop a succinct but coherent and specific report."
   ]
  }
 ],
 "metadata": {
  "kernelspec": {
   "display_name": "Python 3",
   "language": "python",
   "name": "python3"
  },
  "language_info": {
   "codemirror_mode": {
    "name": "ipython",
    "version": 3
   },
   "file_extension": ".py",
   "mimetype": "text/x-python",
   "name": "python",
   "nbconvert_exporter": "python",
   "pygments_lexer": "ipython3",
   "version": "3.6.1"
  }
 },
 "nbformat": 4,
 "nbformat_minor": 2
}
