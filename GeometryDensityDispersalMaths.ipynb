{
 "cells": [
  {
   "cell_type": "markdown",
   "metadata": {},
   "source": [
    "# Parameters\n",
    "Symbol (Value) | Definition\n",
    ":--------------|:----------\n",
    "$l$ | cone's slant height\n",
    "$x$ | radius of cone's base\n",
    "$n_r$ | In silico, the system is a 3D array - for this issue, we can ignore the 3rd dimension, density. $n_r$ is the array's height in number of cells (number of rows), and is analogous to slant height.\n",
    "$n_\\theta$ | array's width in number of cells (number of columns) - analogous to base's radius\n",
    "$d_r$ | dispersal distance in r in metres\n",
    "$d_\\theta$ | dispersal distance in theta in metres\n",
    "$S_r$ | radial position in number of cells (row index) (dispersal start point)\n",
    "$S_\\theta$ | angular position in number of cells (column index) (dispersal destination)\n",
    "\n",
    "# No. of cells moved in r\n",
    "$\n",
    "\\begin{align}\n",
    "\\frac{d_r}{cx}n_r\n",
    "\\end{align}\n",
    "$\n",
    "\n",
    "$cx = l$ where $c$ is a constant  \n",
    "(representing $l$ in terms of $x$)\n",
    "\n",
    "# No. of cells moved in theta\n",
    "$$\\frac{d_\\theta}{2\\pi r}n_\\theta$$\n",
    "\n",
    "$r$ is the radial position halfway between the dispersal start point and destination. $r =$\n",
    "\n",
    "$$S_r + \\frac{d_r}{2}$$  \n",
    "$$S_r + \\frac{d_r n_r}{2x}$$\n",
    "\n",
    "(   \n",
    "$d_r/2$ is in metres. Convert to number of cells, as $S_r$ is in ncells.  \n",
    "$n_r$ cells = $x$ metres  \n",
    "$n_r/x$ = 1 metre  \n",
    ")\n",
    "\n",
    "Currently, $r$ is in number of cells. Convert $r$ to metres, as $d_r$ is in metres:\n",
    "\n",
    "$$(S_r + \\frac{d_r n_r}{2x})\\frac{x}{n_r}$$  \n",
    "$$= (\\frac{S_r x}{n_r} + \\frac{d_r n_r x}{2x n_r})$$  \n",
    "$$= (\\frac{S_r x}{n_r} + \\frac{d_r}{2})$$\n",
    "\n",
    "So, no. of cells moved in theta:\n",
    "$$\\frac{d_\\theta n_\\theta}{2\\pi (\\frac{S_r x}{n_r} + \\frac{d_r}{2})}$$\n",
    "\n",
    "(\\*Don't use cx as movement in theta occurs along the arc of a circumference.)"
   ]
  }
 ],
 "metadata": {
  "kernelspec": {
   "display_name": "Python 3",
   "language": "python",
   "name": "python3"
  },
  "language_info": {
   "codemirror_mode": {
    "name": "ipython",
    "version": 3
   },
   "file_extension": ".py",
   "mimetype": "text/x-python",
   "name": "python",
   "nbconvert_exporter": "python",
   "pygments_lexer": "ipython3",
   "version": "3.6.1"
  }
 },
 "nbformat": 4,
 "nbformat_minor": 2
}
